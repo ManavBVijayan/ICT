{
 "cells": [
  {
   "cell_type": "code",
   "execution_count": 1,
   "id": "c3a0842e",
   "metadata": {},
   "outputs": [],
   "source": [
    "import pandas as pd\n",
    "import numpy as np\n",
    "import matplotlib.pyplot as plt\n",
    "import seaborn as sns"
   ]
  },
  {
   "cell_type": "markdown",
   "id": "ce64ef24",
   "metadata": {},
   "source": [
    "# 1. Read the dataset to the python environment"
   ]
  },
  {
   "cell_type": "code",
   "execution_count": 2,
   "id": "d5e208ec",
   "metadata": {},
   "outputs": [
    {
     "data": {
      "text/html": [
       "<div>\n",
       "<style scoped>\n",
       "    .dataframe tbody tr th:only-of-type {\n",
       "        vertical-align: middle;\n",
       "    }\n",
       "\n",
       "    .dataframe tbody tr th {\n",
       "        vertical-align: top;\n",
       "    }\n",
       "\n",
       "    .dataframe thead th {\n",
       "        text-align: right;\n",
       "    }\n",
       "</style>\n",
       "<table border=\"1\" class=\"dataframe\">\n",
       "  <thead>\n",
       "    <tr style=\"text-align: right;\">\n",
       "      <th></th>\n",
       "      <th>SL</th>\n",
       "      <th>SW</th>\n",
       "      <th>PL</th>\n",
       "      <th>PW</th>\n",
       "      <th>Classification</th>\n",
       "    </tr>\n",
       "  </thead>\n",
       "  <tbody>\n",
       "    <tr>\n",
       "      <th>0</th>\n",
       "      <td>5.1</td>\n",
       "      <td>3.5</td>\n",
       "      <td>1.4</td>\n",
       "      <td>0.2</td>\n",
       "      <td>Iris-setosa</td>\n",
       "    </tr>\n",
       "    <tr>\n",
       "      <th>1</th>\n",
       "      <td>4.9</td>\n",
       "      <td>3.0</td>\n",
       "      <td>1.4</td>\n",
       "      <td>0.2</td>\n",
       "      <td>Iris-setosa</td>\n",
       "    </tr>\n",
       "    <tr>\n",
       "      <th>2</th>\n",
       "      <td>NaN</td>\n",
       "      <td>3.2</td>\n",
       "      <td>1.3</td>\n",
       "      <td>0.2</td>\n",
       "      <td>Iris-setosa</td>\n",
       "    </tr>\n",
       "    <tr>\n",
       "      <th>3</th>\n",
       "      <td>4.6</td>\n",
       "      <td>3.1</td>\n",
       "      <td>1.5</td>\n",
       "      <td>0.2</td>\n",
       "      <td>Iris-setosa</td>\n",
       "    </tr>\n",
       "    <tr>\n",
       "      <th>4</th>\n",
       "      <td>5.0</td>\n",
       "      <td>3.6</td>\n",
       "      <td>1.4</td>\n",
       "      <td>0.2</td>\n",
       "      <td>Iris-setosa</td>\n",
       "    </tr>\n",
       "    <tr>\n",
       "      <th>...</th>\n",
       "      <td>...</td>\n",
       "      <td>...</td>\n",
       "      <td>...</td>\n",
       "      <td>...</td>\n",
       "      <td>...</td>\n",
       "    </tr>\n",
       "    <tr>\n",
       "      <th>145</th>\n",
       "      <td>6.7</td>\n",
       "      <td>3.0</td>\n",
       "      <td>5.2</td>\n",
       "      <td>2.3</td>\n",
       "      <td>Iris-virginica</td>\n",
       "    </tr>\n",
       "    <tr>\n",
       "      <th>146</th>\n",
       "      <td>6.3</td>\n",
       "      <td>2.5</td>\n",
       "      <td>5.0</td>\n",
       "      <td>1.9</td>\n",
       "      <td>Iris-virginica</td>\n",
       "    </tr>\n",
       "    <tr>\n",
       "      <th>147</th>\n",
       "      <td>6.5</td>\n",
       "      <td>3.0</td>\n",
       "      <td>NaN</td>\n",
       "      <td>2.0</td>\n",
       "      <td>Iris-virginica</td>\n",
       "    </tr>\n",
       "    <tr>\n",
       "      <th>148</th>\n",
       "      <td>6.2</td>\n",
       "      <td>3.4</td>\n",
       "      <td>5.4</td>\n",
       "      <td>2.3</td>\n",
       "      <td>Iris-virginica</td>\n",
       "    </tr>\n",
       "    <tr>\n",
       "      <th>149</th>\n",
       "      <td>5.9</td>\n",
       "      <td>3.0</td>\n",
       "      <td>5.1</td>\n",
       "      <td>1.8</td>\n",
       "      <td>Iris-virginica</td>\n",
       "    </tr>\n",
       "  </tbody>\n",
       "</table>\n",
       "<p>150 rows × 5 columns</p>\n",
       "</div>"
      ],
      "text/plain": [
       "      SL   SW   PL   PW  Classification\n",
       "0    5.1  3.5  1.4  0.2     Iris-setosa\n",
       "1    4.9  3.0  1.4  0.2     Iris-setosa\n",
       "2    NaN  3.2  1.3  0.2     Iris-setosa\n",
       "3    4.6  3.1  1.5  0.2     Iris-setosa\n",
       "4    5.0  3.6  1.4  0.2     Iris-setosa\n",
       "..   ...  ...  ...  ...             ...\n",
       "145  6.7  3.0  5.2  2.3  Iris-virginica\n",
       "146  6.3  2.5  5.0  1.9  Iris-virginica\n",
       "147  6.5  3.0  NaN  2.0  Iris-virginica\n",
       "148  6.2  3.4  5.4  2.3  Iris-virginica\n",
       "149  5.9  3.0  5.1  1.8  Iris-virginica\n",
       "\n",
       "[150 rows x 5 columns]"
      ]
     },
     "execution_count": 2,
     "metadata": {},
     "output_type": "execute_result"
    }
   ],
   "source": [
    "data=pd.read_excel('Downloads/iris (2).xls')\n",
    "data"
   ]
  },
  {
   "cell_type": "code",
   "execution_count": 3,
   "id": "4765f17b",
   "metadata": {},
   "outputs": [
    {
     "data": {
      "text/html": [
       "<div>\n",
       "<style scoped>\n",
       "    .dataframe tbody tr th:only-of-type {\n",
       "        vertical-align: middle;\n",
       "    }\n",
       "\n",
       "    .dataframe tbody tr th {\n",
       "        vertical-align: top;\n",
       "    }\n",
       "\n",
       "    .dataframe thead th {\n",
       "        text-align: right;\n",
       "    }\n",
       "</style>\n",
       "<table border=\"1\" class=\"dataframe\">\n",
       "  <thead>\n",
       "    <tr style=\"text-align: right;\">\n",
       "      <th></th>\n",
       "      <th>SL</th>\n",
       "      <th>SW</th>\n",
       "      <th>PL</th>\n",
       "      <th>PW</th>\n",
       "      <th>Classification</th>\n",
       "    </tr>\n",
       "  </thead>\n",
       "  <tbody>\n",
       "    <tr>\n",
       "      <th>0</th>\n",
       "      <td>5.1</td>\n",
       "      <td>3.5</td>\n",
       "      <td>1.4</td>\n",
       "      <td>0.2</td>\n",
       "      <td>Iris-setosa</td>\n",
       "    </tr>\n",
       "    <tr>\n",
       "      <th>1</th>\n",
       "      <td>4.9</td>\n",
       "      <td>3.0</td>\n",
       "      <td>1.4</td>\n",
       "      <td>0.2</td>\n",
       "      <td>Iris-setosa</td>\n",
       "    </tr>\n",
       "    <tr>\n",
       "      <th>2</th>\n",
       "      <td>NaN</td>\n",
       "      <td>3.2</td>\n",
       "      <td>1.3</td>\n",
       "      <td>0.2</td>\n",
       "      <td>Iris-setosa</td>\n",
       "    </tr>\n",
       "    <tr>\n",
       "      <th>3</th>\n",
       "      <td>4.6</td>\n",
       "      <td>3.1</td>\n",
       "      <td>1.5</td>\n",
       "      <td>0.2</td>\n",
       "      <td>Iris-setosa</td>\n",
       "    </tr>\n",
       "    <tr>\n",
       "      <th>4</th>\n",
       "      <td>5.0</td>\n",
       "      <td>3.6</td>\n",
       "      <td>1.4</td>\n",
       "      <td>0.2</td>\n",
       "      <td>Iris-setosa</td>\n",
       "    </tr>\n",
       "  </tbody>\n",
       "</table>\n",
       "</div>"
      ],
      "text/plain": [
       "    SL   SW   PL   PW Classification\n",
       "0  5.1  3.5  1.4  0.2    Iris-setosa\n",
       "1  4.9  3.0  1.4  0.2    Iris-setosa\n",
       "2  NaN  3.2  1.3  0.2    Iris-setosa\n",
       "3  4.6  3.1  1.5  0.2    Iris-setosa\n",
       "4  5.0  3.6  1.4  0.2    Iris-setosa"
      ]
     },
     "execution_count": 3,
     "metadata": {},
     "output_type": "execute_result"
    }
   ],
   "source": [
    "data.head()"
   ]
  },
  {
   "cell_type": "code",
   "execution_count": 4,
   "id": "bd8dd2dd",
   "metadata": {},
   "outputs": [
    {
     "data": {
      "text/plain": [
       "(150, 5)"
      ]
     },
     "execution_count": 4,
     "metadata": {},
     "output_type": "execute_result"
    }
   ],
   "source": [
    "data.shape"
   ]
  },
  {
   "cell_type": "code",
   "execution_count": 5,
   "id": "a4208938",
   "metadata": {},
   "outputs": [
    {
     "name": "stdout",
     "output_type": "stream",
     "text": [
      "<class 'pandas.core.frame.DataFrame'>\n",
      "RangeIndex: 150 entries, 0 to 149\n",
      "Data columns (total 5 columns):\n",
      " #   Column          Non-Null Count  Dtype  \n",
      "---  ------          --------------  -----  \n",
      " 0   SL              143 non-null    float64\n",
      " 1   SW              144 non-null    float64\n",
      " 2   PL              144 non-null    float64\n",
      " 3   PW              150 non-null    float64\n",
      " 4   Classification  150 non-null    object \n",
      "dtypes: float64(4), object(1)\n",
      "memory usage: 6.0+ KB\n"
     ]
    }
   ],
   "source": [
    "data.info()"
   ]
  },
  {
   "cell_type": "code",
   "execution_count": 6,
   "id": "c54ef949",
   "metadata": {},
   "outputs": [
    {
     "data": {
      "text/plain": [
       "SL                7\n",
       "SW                6\n",
       "PL                6\n",
       "PW                0\n",
       "Classification    0\n",
       "dtype: int64"
      ]
     },
     "execution_count": 6,
     "metadata": {},
     "output_type": "execute_result"
    }
   ],
   "source": [
    "data.isna().sum()"
   ]
  },
  {
   "cell_type": "code",
   "execution_count": 7,
   "id": "6e0b314b",
   "metadata": {},
   "outputs": [
    {
     "data": {
      "text/plain": [
       "SL                float64\n",
       "SW                float64\n",
       "PL                float64\n",
       "PW                float64\n",
       "Classification     object\n",
       "dtype: object"
      ]
     },
     "execution_count": 7,
     "metadata": {},
     "output_type": "execute_result"
    }
   ],
   "source": [
    "data.dtypes"
   ]
  },
  {
   "cell_type": "markdown",
   "id": "1f2b8d41",
   "metadata": {},
   "source": [
    "# 2. Do necessary pre-processing steps"
   ]
  },
  {
   "cell_type": "markdown",
   "id": "77feb034",
   "metadata": {},
   "source": [
    "Handling missing values"
   ]
  },
  {
   "cell_type": "code",
   "execution_count": 8,
   "id": "2d385d6d",
   "metadata": {},
   "outputs": [
    {
     "data": {
      "image/png": "[encoded data removed]",
      "text/plain": [
       "<Figure size 1440x1080 with 4 Axes>"
      ]
     },
     "metadata": {
      "needs_background": "light"
     },
     "output_type": "display_data"
    }
   ],
   "source": [
    "freqgraph=data.select_dtypes(include=['float'])\n",
    "freqgraph.hist(figsize=(20,15))\n",
    "plt.show()"
   ]
  },
  {
   "cell_type": "code",
   "execution_count": 9,
   "id": "dd782f11",
   "metadata": {},
   "outputs": [],
   "source": [
    "for i in ['SL','SW','PL']:\n",
    "    data[i]=data[i].fillna(data[i].median())\n",
    "    "
   ]
  },
  {
   "cell_type": "code",
   "execution_count": 10,
   "id": "37143b3c",
   "metadata": {},
   "outputs": [
    {
     "data": {
      "text/plain": [
       "SL                0\n",
       "SW                0\n",
       "PL                0\n",
       "PW                0\n",
       "Classification    0\n",
       "dtype: int64"
      ]
     },
     "execution_count": 10,
     "metadata": {},
     "output_type": "execute_result"
    }
   ],
   "source": [
    "data.isna().sum()"
   ]
  },
  {
   "cell_type": "markdown",
   "id": "43381138",
   "metadata": {},
   "source": [
    "Handling outliers"
   ]
  },
  {
   "cell_type": "code",
   "execution_count": 11,
   "id": "bca94df1",
   "metadata": {},
   "outputs": [
    {
     "data": {
      "text/plain": [
       "{'whiskers': [<matplotlib.lines.Line2D at 0x1a1ef8c6670>,\n",
       "  <matplotlib.lines.Line2D at 0x1a1ef8c6850>],\n",
       " 'caps': [<matplotlib.lines.Line2D at 0x1a1ef8c6bb0>,\n",
       "  <matplotlib.lines.Line2D at 0x1a1ef8c6f10>],\n",
       " 'boxes': [<matplotlib.lines.Line2D at 0x1a1ef8c6310>],\n",
       " 'medians': [<matplotlib.lines.Line2D at 0x1a1ef8d72b0>],\n",
       " 'fliers': [<matplotlib.lines.Line2D at 0x1a1ef8d7610>],\n",
       " 'means': []}"
      ]
     },
     "execution_count": 11,
     "metadata": {},
     "output_type": "execute_result"
    },
    {
     "data": {
      "image/png": "[encoded data removed]",
      "text/plain": [
       "<Figure size 432x288 with 1 Axes>"
      ]
     },
     "metadata": {
      "needs_background": "light"
     },
     "output_type": "display_data"
    }
   ],
   "source": [
    "plt.boxplot(data['SL'])\n"
   ]
  },
  {
   "cell_type": "code",
   "execution_count": 12,
   "id": "6163b50b",
   "metadata": {},
   "outputs": [
    {
     "name": "stdout",
     "output_type": "stream",
     "text": [
      "Q1= 5.2\n",
      "Q2= 5.8\n",
      "Q3= 6.4\n"
     ]
    }
   ],
   "source": [
    "Q1=np.percentile(data['SL'],25,interpolation='midpoint')\n",
    "Q2 = np.percentile(data['SL'],50,interpolation='midpoint')\n",
    "Q3 = np.percentile(data['SL'],75,interpolation='midpoint')\n",
    "print('Q1=',Q1)\n",
    "print('Q2=',Q2)\n",
    "print('Q3=',Q3)"
   ]
  },
  {
   "cell_type": "code",
   "execution_count": 13,
   "id": "0075f656",
   "metadata": {},
   "outputs": [
    {
     "name": "stdout",
     "output_type": "stream",
     "text": [
      "Median= 5.8\n"
     ]
    }
   ],
   "source": [
    "print('Median=',data['SL'].median())"
   ]
  },
  {
   "cell_type": "code",
   "execution_count": 14,
   "id": "f3adec90",
   "metadata": {},
   "outputs": [],
   "source": [
    "IQR=Q3-Q1\n",
    "low_limit = Q1 - 1.5*IQR\n",
    "upp_limit = Q3 + 1.5*IQR"
   ]
  },
  {
   "cell_type": "code",
   "execution_count": 15,
   "id": "6b9075fc",
   "metadata": {},
   "outputs": [
    {
     "name": "stdout",
     "output_type": "stream",
     "text": [
      "IQR = Q3 - Q1 = 1.2000000000000002\n",
      "Lower limit is : 3.4\n",
      "Upper limit is : 8.200000000000001\n"
     ]
    }
   ],
   "source": [
    "print('IQR = Q3 - Q1 =',IQR)\n",
    "print('Lower limit is :',low_limit)\n",
    "print('Upper limit is :',upp_limit)"
   ]
  },
  {
   "cell_type": "code",
   "execution_count": 16,
   "id": "c2d89b25",
   "metadata": {},
   "outputs": [
    {
     "name": "stdout",
     "output_type": "stream",
     "text": [
      "outliers  :\n",
      " []\n"
     ]
    }
   ],
   "source": [
    "outliers=[]\n",
    "for x in data['SL']:\n",
    "    if ((x>upp_limit) or (x<low_limit)):\n",
    "        outliers.append(x)\n",
    "print('outliers  :\\n',outliers) "
   ]
  },
  {
   "cell_type": "markdown",
   "id": "12417103",
   "metadata": {},
   "source": [
    "There is no outliers"
   ]
  },
  {
   "cell_type": "code",
   "execution_count": 17,
   "id": "ba6d4aab",
   "metadata": {},
   "outputs": [
    {
     "data": {
      "text/plain": [
       "{'whiskers': [<matplotlib.lines.Line2D at 0x1a1ef9364f0>,\n",
       "  <matplotlib.lines.Line2D at 0x1a1ef936850>],\n",
       " 'caps': [<matplotlib.lines.Line2D at 0x1a1ef936bb0>,\n",
       "  <matplotlib.lines.Line2D at 0x1a1ef936f10>],\n",
       " 'boxes': [<matplotlib.lines.Line2D at 0x1a1ef9361f0>],\n",
       " 'medians': [<matplotlib.lines.Line2D at 0x1a1ef93f2b0>],\n",
       " 'fliers': [<matplotlib.lines.Line2D at 0x1a1ef93f610>],\n",
       " 'means': []}"
      ]
     },
     "execution_count": 17,
     "metadata": {},
     "output_type": "execute_result"
    },
    {
     "data": {
      "image/png": "[encoded data removed]",
      "text/plain": [
       "<Figure size 432x288 with 1 Axes>"
      ]
     },
     "metadata": {
      "needs_background": "light"
     },
     "output_type": "display_data"
    }
   ],
   "source": [
    "plt.boxplot(data['SW'])"
   ]
  },
  {
   "cell_type": "code",
   "execution_count": 18,
   "id": "19bb4370",
   "metadata": {},
   "outputs": [
    {
     "name": "stdout",
     "output_type": "stream",
     "text": [
      "Q1 is: 2.8\n",
      "Q2 is: 3.0\n",
      "Q3 is: 3.25\n",
      "IQR = Q3 - Q1 = 0.4500000000000002\n",
      "Lower limit is : 2.1249999999999996\n",
      "Upper limit is : 3.9250000000000003\n",
      "Outliers :\n",
      " [4.0, 4.4, 4.1, 4.2, 2.0]\n"
     ]
    }
   ],
   "source": [
    "Q1 = np.percentile(data['SW'],25,interpolation='midpoint')\n",
    "Q2 = np.percentile(data['SW'],50,interpolation='midpoint')\n",
    "Q3 = np.percentile(data['SW'],75,interpolation='midpoint')\n",
    "IQR = Q3 - Q1\n",
    "low_limit = Q1 - 1.5*IQR\n",
    "upp_limit = Q3 + 1.5*IQR\n",
    "print('Q1 is:',Q1)\n",
    "print('Q2 is:',Q2)\n",
    "print('Q3 is:',Q3)\n",
    "print('IQR = Q3 - Q1 =',IQR)\n",
    "print('Lower limit is :',low_limit)\n",
    "print('Upper limit is :',upp_limit)\n",
    "\n",
    "\n",
    "Outliers=[]\n",
    "for x in data['SW']:\n",
    "    if ((x>upp_limit) or (x<low_limit)):\n",
    "        Outliers.append(x)\n",
    "print('Outliers :\\n',Outliers)"
   ]
  },
  {
   "cell_type": "code",
   "execution_count": 19,
   "id": "9159fb40",
   "metadata": {},
   "outputs": [
    {
     "data": {
      "text/plain": [
       "Int64Index([14, 15, 32, 33], dtype='int64')"
      ]
     },
     "execution_count": 19,
     "metadata": {},
     "output_type": "execute_result"
    }
   ],
   "source": [
    "ind1 = data['SW']>upp_limit\n",
    "data.loc[ind1].index"
   ]
  },
  {
   "cell_type": "code",
   "execution_count": 20,
   "id": "dcba59d1",
   "metadata": {},
   "outputs": [
    {
     "data": {
      "text/plain": [
       "Int64Index([60], dtype='int64')"
      ]
     },
     "execution_count": 20,
     "metadata": {},
     "output_type": "execute_result"
    }
   ],
   "source": [
    "ind2 = data['SW']<low_limit\n",
    "data.loc[ind2].index"
   ]
  },
  {
   "cell_type": "code",
   "execution_count": 21,
   "id": "66cd5861",
   "metadata": {},
   "outputs": [],
   "source": [
    "data.drop(data.loc[ind1].index,inplace=True)\n",
    "data.drop(data.loc[ind2].index,inplace=True)"
   ]
  },
  {
   "cell_type": "code",
   "execution_count": 22,
   "id": "741e1f2c",
   "metadata": {},
   "outputs": [
    {
     "data": {
      "text/plain": [
       "{'whiskers': [<matplotlib.lines.Line2D at 0x1a1ef9d6c70>,\n",
       "  <matplotlib.lines.Line2D at 0x1a1ef9d6fd0>],\n",
       " 'caps': [<matplotlib.lines.Line2D at 0x1a1ef9e2310>,\n",
       "  <matplotlib.lines.Line2D at 0x1a1ef9e2670>],\n",
       " 'boxes': [<matplotlib.lines.Line2D at 0x1a1ef9d6910>],\n",
       " 'medians': [<matplotlib.lines.Line2D at 0x1a1ef9e29d0>],\n",
       " 'fliers': [<matplotlib.lines.Line2D at 0x1a1ef9e2d30>],\n",
       " 'means': []}"
      ]
     },
     "execution_count": 22,
     "metadata": {},
     "output_type": "execute_result"
    },
    {
     "data": {
      "image/png": "[encoded data removed]",
      "text/plain": [
       "<Figure size 432x288 with 1 Axes>"
      ]
     },
     "metadata": {
      "needs_background": "light"
     },
     "output_type": "display_data"
    }
   ],
   "source": [
    "plt.boxplot(data['SW'])"
   ]
  },
  {
   "cell_type": "code",
   "execution_count": 23,
   "id": "6126f812",
   "metadata": {},
   "outputs": [
    {
     "data": {
      "text/plain": [
       "{'whiskers': [<matplotlib.lines.Line2D at 0x1a1efa397c0>,\n",
       "  <matplotlib.lines.Line2D at 0x1a1efa39ac0>],\n",
       " 'caps': [<matplotlib.lines.Line2D at 0x1a1efa39d00>,\n",
       "  <matplotlib.lines.Line2D at 0x1a1efa460a0>],\n",
       " 'boxes': [<matplotlib.lines.Line2D at 0x1a1efa394c0>],\n",
       " 'medians': [<matplotlib.lines.Line2D at 0x1a1efa46400>],\n",
       " 'fliers': [<matplotlib.lines.Line2D at 0x1a1efa46760>],\n",
       " 'means': []}"
      ]
     },
     "execution_count": 23,
     "metadata": {},
     "output_type": "execute_result"
    },
    {
     "data": {
      "image/png": "[encoded data removed]",
      "text/plain": [
       "<Figure size 432x288 with 1 Axes>"
      ]
     },
     "metadata": {
      "needs_background": "light"
     },
     "output_type": "display_data"
    }
   ],
   "source": [
    "plt.boxplot(data['PL'])"
   ]
  },
  {
   "cell_type": "code",
   "execution_count": 24,
   "id": "40fdfff3",
   "metadata": {},
   "outputs": [
    {
     "name": "stdout",
     "output_type": "stream",
     "text": [
      "Q1 is: 1.6\n",
      "Q2 is: 4.35\n",
      "Q3 is: 5.1\n",
      "IQR = Q3 - Q1 = 3.4999999999999996\n",
      "Lower limit is : -3.649999999999999\n",
      "Upper limit is : 10.349999999999998\n",
      "Outliers :\n",
      " []\n"
     ]
    }
   ],
   "source": [
    "Q1 = np.percentile(data['PL'],25,interpolation='midpoint')\n",
    "Q2 = np.percentile(data['PL'],50,interpolation='midpoint')\n",
    "Q3 = np.percentile(data['PL'],75,interpolation='midpoint')\n",
    "IQR = Q3 - Q1\n",
    "low_limit = Q1 - 1.5*IQR\n",
    "upp_limit = Q3 + 1.5*IQR\n",
    "print('Q1 is:',Q1)\n",
    "print('Q2 is:',Q2)\n",
    "print('Q3 is:',Q3)\n",
    "print('IQR = Q3 - Q1 =',IQR)\n",
    "print('Lower limit is :',low_limit)\n",
    "print('Upper limit is :',upp_limit)\n",
    "\n",
    "\n",
    "Outliers=[]\n",
    "for x in data['PL']:\n",
    "    if ((x>upp_limit) or (x<low_limit)):\n",
    "        Outliers.append(x)\n",
    "print('Outliers :\\n',Outliers)"
   ]
  },
  {
   "cell_type": "markdown",
   "id": "76523b7a",
   "metadata": {},
   "source": [
    "There is no outliers"
   ]
  },
  {
   "cell_type": "code",
   "execution_count": 25,
   "id": "e9aaef71",
   "metadata": {},
   "outputs": [
    {
     "data": {
      "text/plain": [
       "{'whiskers': [<matplotlib.lines.Line2D at 0x1a1efaa2160>,\n",
       "  <matplotlib.lines.Line2D at 0x1a1efaa24c0>],\n",
       " 'caps': [<matplotlib.lines.Line2D at 0x1a1efaa2820>,\n",
       "  <matplotlib.lines.Line2D at 0x1a1efaa2b80>],\n",
       " 'boxes': [<matplotlib.lines.Line2D at 0x1a1efa94e20>],\n",
       " 'medians': [<matplotlib.lines.Line2D at 0x1a1efaa2ee0>],\n",
       " 'fliers': [<matplotlib.lines.Line2D at 0x1a1efaac280>],\n",
       " 'means': []}"
      ]
     },
     "execution_count": 25,
     "metadata": {},
     "output_type": "execute_result"
    },
    {
     "data": {
      "image/png": "[encoded data removed]",
      "text/plain": [
       "<Figure size 432x288 with 1 Axes>"
      ]
     },
     "metadata": {
      "needs_background": "light"
     },
     "output_type": "display_data"
    }
   ],
   "source": [
    "plt.boxplot(data['PW'])"
   ]
  },
  {
   "cell_type": "code",
   "execution_count": 26,
   "id": "a436296f",
   "metadata": {},
   "outputs": [
    {
     "name": "stdout",
     "output_type": "stream",
     "text": [
      "Q1 is: 0.3\n",
      "Q2 is: 1.3\n",
      "Q3 is: 1.8\n",
      "IQR = Q3 - Q1 = 1.5\n",
      "Lower limit is : -1.95\n",
      "Upper limit is : 4.05\n",
      "Outliers :\n",
      " []\n"
     ]
    }
   ],
   "source": [
    "Q1 = np.percentile(data['PW'],25,interpolation='midpoint')\n",
    "Q2 = np.percentile(data['PW'],50,interpolation='midpoint')\n",
    "Q3 = np.percentile(data['PW'],75,interpolation='midpoint')\n",
    "IQR = Q3 - Q1\n",
    "low_limit = Q1 - 1.5*IQR\n",
    "upp_limit = Q3 + 1.5*IQR\n",
    "print('Q1 is:',Q1)\n",
    "print('Q2 is:',Q2)\n",
    "print('Q3 is:',Q3)\n",
    "print('IQR = Q3 - Q1 =',IQR)\n",
    "print('Lower limit is :',low_limit)\n",
    "print('Upper limit is :',upp_limit)\n",
    "\n",
    "\n",
    "Outliers=[]\n",
    "for x in data['PW']:\n",
    "    if ((x>upp_limit) or (x<low_limit)):\n",
    "        Outliers.append(x)\n",
    "print('Outliers :\\n',Outliers)"
   ]
  },
  {
   "cell_type": "markdown",
   "id": "1dc76073",
   "metadata": {},
   "source": [
    "There is no outliers"
   ]
  },
  {
   "cell_type": "markdown",
   "id": "ceb3e42b",
   "metadata": {},
   "source": [
    "Normalisation"
   ]
  },
  {
   "cell_type": "code",
   "execution_count": 27,
   "id": "0e413d77",
   "metadata": {},
   "outputs": [],
   "source": [
    "y=data['Classification']\n",
    "x=data.drop(['Classification'],axis=1)"
   ]
  },
  {
   "cell_type": "code",
   "execution_count": 28,
   "id": "d2c1dab1",
   "metadata": {},
   "outputs": [
    {
     "data": {
      "text/html": [
       "<div>\n",
       "<style scoped>\n",
       "    .dataframe tbody tr th:only-of-type {\n",
       "        vertical-align: middle;\n",
       "    }\n",
       "\n",
       "    .dataframe tbody tr th {\n",
       "        vertical-align: top;\n",
       "    }\n",
       "\n",
       "    .dataframe thead th {\n",
       "        text-align: right;\n",
       "    }\n",
       "</style>\n",
       "<table border=\"1\" class=\"dataframe\">\n",
       "  <thead>\n",
       "    <tr style=\"text-align: right;\">\n",
       "      <th></th>\n",
       "      <th>SL</th>\n",
       "      <th>SW</th>\n",
       "      <th>PL</th>\n",
       "      <th>PW</th>\n",
       "    </tr>\n",
       "  </thead>\n",
       "  <tbody>\n",
       "    <tr>\n",
       "      <th>count</th>\n",
       "      <td>145.000000</td>\n",
       "      <td>145.000000</td>\n",
       "      <td>145.000000</td>\n",
       "      <td>145.000000</td>\n",
       "    </tr>\n",
       "    <tr>\n",
       "      <th>mean</th>\n",
       "      <td>5.867586</td>\n",
       "      <td>3.023448</td>\n",
       "      <td>3.847586</td>\n",
       "      <td>1.226897</td>\n",
       "    </tr>\n",
       "    <tr>\n",
       "      <th>std</th>\n",
       "      <td>0.816827</td>\n",
       "      <td>0.374354</td>\n",
       "      <td>1.712265</td>\n",
       "      <td>0.758219</td>\n",
       "    </tr>\n",
       "    <tr>\n",
       "      <th>min</th>\n",
       "      <td>4.300000</td>\n",
       "      <td>2.200000</td>\n",
       "      <td>1.000000</td>\n",
       "      <td>0.100000</td>\n",
       "    </tr>\n",
       "    <tr>\n",
       "      <th>25%</th>\n",
       "      <td>5.200000</td>\n",
       "      <td>2.800000</td>\n",
       "      <td>1.600000</td>\n",
       "      <td>0.300000</td>\n",
       "    </tr>\n",
       "    <tr>\n",
       "      <th>50%</th>\n",
       "      <td>5.800000</td>\n",
       "      <td>3.000000</td>\n",
       "      <td>4.350000</td>\n",
       "      <td>1.300000</td>\n",
       "    </tr>\n",
       "    <tr>\n",
       "      <th>75%</th>\n",
       "      <td>6.400000</td>\n",
       "      <td>3.200000</td>\n",
       "      <td>5.100000</td>\n",
       "      <td>1.800000</td>\n",
       "    </tr>\n",
       "    <tr>\n",
       "      <th>max</th>\n",
       "      <td>7.900000</td>\n",
       "      <td>3.900000</td>\n",
       "      <td>6.900000</td>\n",
       "      <td>2.500000</td>\n",
       "    </tr>\n",
       "  </tbody>\n",
       "</table>\n",
       "</div>"
      ],
      "text/plain": [
       "               SL          SW          PL          PW\n",
       "count  145.000000  145.000000  145.000000  145.000000\n",
       "mean     5.867586    3.023448    3.847586    1.226897\n",
       "std      0.816827    0.374354    1.712265    0.758219\n",
       "min      4.300000    2.200000    1.000000    0.100000\n",
       "25%      5.200000    2.800000    1.600000    0.300000\n",
       "50%      5.800000    3.000000    4.350000    1.300000\n",
       "75%      6.400000    3.200000    5.100000    1.800000\n",
       "max      7.900000    3.900000    6.900000    2.500000"
      ]
     },
     "execution_count": 28,
     "metadata": {},
     "output_type": "execute_result"
    }
   ],
   "source": [
    "x.describe()"
   ]
  },
  {
   "cell_type": "code",
   "execution_count": 29,
   "id": "97831431",
   "metadata": {},
   "outputs": [
    {
     "data": {
      "text/html": [
       "<div>\n",
       "<style scoped>\n",
       "    .dataframe tbody tr th:only-of-type {\n",
       "        vertical-align: middle;\n",
       "    }\n",
       "\n",
       "    .dataframe tbody tr th {\n",
       "        vertical-align: top;\n",
       "    }\n",
       "\n",
       "    .dataframe thead th {\n",
       "        text-align: right;\n",
       "    }\n",
       "</style>\n",
       "<table border=\"1\" class=\"dataframe\">\n",
       "  <thead>\n",
       "    <tr style=\"text-align: right;\">\n",
       "      <th></th>\n",
       "      <th>0</th>\n",
       "      <th>1</th>\n",
       "      <th>2</th>\n",
       "      <th>3</th>\n",
       "    </tr>\n",
       "  </thead>\n",
       "  <tbody>\n",
       "    <tr>\n",
       "      <th>count</th>\n",
       "      <td>145.000000</td>\n",
       "      <td>145.000000</td>\n",
       "      <td>145.000000</td>\n",
       "      <td>145.000000</td>\n",
       "    </tr>\n",
       "    <tr>\n",
       "      <th>mean</th>\n",
       "      <td>0.750558</td>\n",
       "      <td>0.397703</td>\n",
       "      <td>0.465043</td>\n",
       "      <td>0.144106</td>\n",
       "    </tr>\n",
       "    <tr>\n",
       "      <th>std</th>\n",
       "      <td>0.048136</td>\n",
       "      <td>0.097243</td>\n",
       "      <td>0.154637</td>\n",
       "      <td>0.077887</td>\n",
       "    </tr>\n",
       "    <tr>\n",
       "      <th>min</th>\n",
       "      <td>0.631396</td>\n",
       "      <td>0.238392</td>\n",
       "      <td>0.168646</td>\n",
       "      <td>0.016695</td>\n",
       "    </tr>\n",
       "    <tr>\n",
       "      <th>25%</th>\n",
       "      <td>0.713666</td>\n",
       "      <td>0.325894</td>\n",
       "      <td>0.262330</td>\n",
       "      <td>0.051382</td>\n",
       "    </tr>\n",
       "    <tr>\n",
       "      <th>50%</th>\n",
       "      <td>0.747142</td>\n",
       "      <td>0.354212</td>\n",
       "      <td>0.539660</td>\n",
       "      <td>0.164742</td>\n",
       "    </tr>\n",
       "    <tr>\n",
       "      <th>75%</th>\n",
       "      <td>0.788928</td>\n",
       "      <td>0.507020</td>\n",
       "      <td>0.582878</td>\n",
       "      <td>0.197997</td>\n",
       "    </tr>\n",
       "    <tr>\n",
       "      <th>max</th>\n",
       "      <td>0.860939</td>\n",
       "      <td>0.607125</td>\n",
       "      <td>0.636981</td>\n",
       "      <td>0.280419</td>\n",
       "    </tr>\n",
       "  </tbody>\n",
       "</table>\n",
       "</div>"
      ],
      "text/plain": [
       "                0           1           2           3\n",
       "count  145.000000  145.000000  145.000000  145.000000\n",
       "mean     0.750558    0.397703    0.465043    0.144106\n",
       "std      0.048136    0.097243    0.154637    0.077887\n",
       "min      0.631396    0.238392    0.168646    0.016695\n",
       "25%      0.713666    0.325894    0.262330    0.051382\n",
       "50%      0.747142    0.354212    0.539660    0.164742\n",
       "75%      0.788928    0.507020    0.582878    0.197997\n",
       "max      0.860939    0.607125    0.636981    0.280419"
      ]
     },
     "execution_count": 29,
     "metadata": {},
     "output_type": "execute_result"
    }
   ],
   "source": [
    "from sklearn import preprocessing\n",
    "x=preprocessing.normalize(x)\n",
    "x=pd.DataFrame(x)\n",
    "x.describe()"
   ]
  },
  {
   "cell_type": "markdown",
   "id": "4596a8a6",
   "metadata": {},
   "source": [
    "# 3. Find out which classification model gives the best result to predict iris species."
   ]
  },
  {
   "cell_type": "code",
   "execution_count": 30,
   "id": "87eac7b4",
   "metadata": {},
   "outputs": [],
   "source": [
    "from sklearn.model_selection import train_test_split\n",
    "x_train,x_test,y_train,y_test=train_test_split(x,y,random_state=42,test_size=0.2)"
   ]
  },
  {
   "cell_type": "markdown",
   "id": "962aa381",
   "metadata": {},
   "source": [
    "# Logistic regression model"
   ]
  },
  {
   "cell_type": "code",
   "execution_count": 31,
   "id": "c01e4615",
   "metadata": {},
   "outputs": [],
   "source": [
    "from sklearn.linear_model import LogisticRegression\n",
    "logit_model=LogisticRegression()\n",
    "logit_model.fit(x_train,y_train)\n",
    "y_pred=logit_model.predict(x_test)"
   ]
  },
  {
   "cell_type": "code",
   "execution_count": 32,
   "id": "f8f82f44",
   "metadata": {
    "scrolled": true
   },
   "outputs": [
    {
     "name": "stdout",
     "output_type": "stream",
     "text": [
      "Confusion matrix\n",
      " [[ 9  0  0]\n",
      " [ 0  4  5]\n",
      " [ 0  0 11]]\n",
      "\n",
      "Classification report\n",
      "                  precision    recall  f1-score   support\n",
      "\n",
      "    Iris-setosa       1.00      1.00      1.00         9\n",
      "Iris-versicolor       1.00      0.44      0.62         9\n",
      " Iris-virginica       0.69      1.00      0.81        11\n",
      "\n",
      "       accuracy                           0.83        29\n",
      "      macro avg       0.90      0.81      0.81        29\n",
      "   weighted avg       0.88      0.83      0.81        29\n",
      "\n"
     ]
    }
   ],
   "source": [
    "from sklearn.metrics import confusion_matrix,accuracy_score,classification_report\n",
    "print('Confusion matrix\\n',confusion_matrix(y_test,y_pred))\n",
    "print('\\nClassification report\\n',classification_report(y_test,y_pred))"
   ]
  },
  {
   "cell_type": "markdown",
   "id": "7d3f5a30",
   "metadata": {},
   "source": [
    "# KNN model"
   ]
  },
  {
   "cell_type": "code",
   "execution_count": 33,
   "id": "3efd80b2",
   "metadata": {
    "scrolled": true
   },
   "outputs": [
    {
     "data": {
      "image/png": "[encoded data removed]",
      "text/plain": [
       "<Figure size 432x288 with 1 Axes>"
      ]
     },
     "metadata": {
      "needs_background": "light"
     },
     "output_type": "display_data"
    }
   ],
   "source": [
    "from sklearn.neighbors import KNeighborsClassifier\n",
    "acc_values=[]\n",
    "for k in np.arange(3,15):\n",
    "    classifier=KNeighborsClassifier(n_neighbors=k,metric='minkowski')\n",
    "    classifier.fit(x_train,y_train)\n",
    "    y_pred=classifier.predict(x_test)\n",
    "    acc=accuracy_score(y_pred,y_test)\n",
    "    acc_values.append(acc)\n",
    "plt.plot(np.arange(3,15),acc_values)\n",
    "plt.show()"
   ]
  },
  {
   "cell_type": "markdown",
   "id": "89c1ea5e",
   "metadata": {},
   "source": [
    "k value = 13 "
   ]
  },
  {
   "cell_type": "code",
   "execution_count": 34,
   "id": "4c280044",
   "metadata": {},
   "outputs": [],
   "source": [
    "classifier=KNeighborsClassifier(n_neighbors=13,metric='minkowski')\n",
    "classifier.fit(x_train,y_train)\n",
    "y_pred=classifier.predict(x_test)"
   ]
  },
  {
   "cell_type": "code",
   "execution_count": 35,
   "id": "4cdda2ad",
   "metadata": {},
   "outputs": [
    {
     "name": "stdout",
     "output_type": "stream",
     "text": [
      "Confusion matrix\n",
      " [[ 9  0  0]\n",
      " [ 0  8  1]\n",
      " [ 0  1 10]]\n",
      "\n",
      "Classification report\n",
      "                  precision    recall  f1-score   support\n",
      "\n",
      "    Iris-setosa       1.00      1.00      1.00         9\n",
      "Iris-versicolor       0.89      0.89      0.89         9\n",
      " Iris-virginica       0.91      0.91      0.91        11\n",
      "\n",
      "       accuracy                           0.93        29\n",
      "      macro avg       0.93      0.93      0.93        29\n",
      "   weighted avg       0.93      0.93      0.93        29\n",
      "\n"
     ]
    }
   ],
   "source": [
    "print('Confusion matrix\\n',confusion_matrix(y_test,y_pred))\n",
    "print('\\nClassification report\\n',classification_report(y_test,y_pred))"
   ]
  },
  {
   "cell_type": "markdown",
   "id": "14c67537",
   "metadata": {},
   "source": [
    "# Support Vector Machine"
   ]
  },
  {
   "cell_type": "code",
   "execution_count": 36,
   "id": "08dbb09b",
   "metadata": {},
   "outputs": [],
   "source": [
    "from sklearn.svm import SVC\n",
    "svm_linear=SVC(kernel='rbf')\n",
    "svm_linear.fit(x_train,y_train)\n",
    "y_pred=svm_linear.predict(x_test)"
   ]
  },
  {
   "cell_type": "code",
   "execution_count": 37,
   "id": "1ba4029b",
   "metadata": {},
   "outputs": [
    {
     "name": "stdout",
     "output_type": "stream",
     "text": [
      "Confusion matrix\n",
      " [[ 9  0  0]\n",
      " [ 0  8  1]\n",
      " [ 0  0 11]]\n",
      "\n",
      "Classification report\n",
      "                  precision    recall  f1-score   support\n",
      "\n",
      "    Iris-setosa       1.00      1.00      1.00         9\n",
      "Iris-versicolor       1.00      0.89      0.94         9\n",
      " Iris-virginica       0.92      1.00      0.96        11\n",
      "\n",
      "       accuracy                           0.97        29\n",
      "      macro avg       0.97      0.96      0.97        29\n",
      "   weighted avg       0.97      0.97      0.97        29\n",
      "\n"
     ]
    }
   ],
   "source": [
    "print('Confusion matrix\\n',confusion_matrix(y_test,y_pred))\n",
    "print('\\nClassification report\\n',classification_report(y_test,y_pred))"
   ]
  },
  {
   "cell_type": "markdown",
   "id": "c953db14",
   "metadata": {},
   "source": [
    "# Decision Tree"
   ]
  },
  {
   "cell_type": "code",
   "execution_count": 38,
   "id": "41f6303e",
   "metadata": {},
   "outputs": [
    {
     "name": "stdout",
     "output_type": "stream",
     "text": [
      "Confusion matrix\n",
      " [[ 9  0  0]\n",
      " [ 0  7  2]\n",
      " [ 0  0 11]]\n",
      "\n",
      "Classification report\n",
      "                  precision    recall  f1-score   support\n",
      "\n",
      "    Iris-setosa       1.00      1.00      1.00         9\n",
      "Iris-versicolor       1.00      0.78      0.88         9\n",
      " Iris-virginica       0.85      1.00      0.92        11\n",
      "\n",
      "       accuracy                           0.93        29\n",
      "      macro avg       0.95      0.93      0.93        29\n",
      "   weighted avg       0.94      0.93      0.93        29\n",
      "\n"
     ]
    }
   ],
   "source": [
    "from sklearn.tree import DecisionTreeClassifier\n",
    "dt_model=DecisionTreeClassifier()\n",
    "dt_model.fit(x_train,y_train)\n",
    "y_pred=dt_model.predict(x_test)\n",
    "print('Confusion matrix\\n',confusion_matrix(y_test,y_pred))\n",
    "print('\\nClassification report\\n',classification_report(y_test,y_pred))"
   ]
  },
  {
   "cell_type": "markdown",
   "id": "69c3fbd6",
   "metadata": {},
   "source": [
    "# Random Forest Model"
   ]
  },
  {
   "cell_type": "code",
   "execution_count": 39,
   "id": "03a7b75c",
   "metadata": {},
   "outputs": [
    {
     "name": "stdout",
     "output_type": "stream",
     "text": [
      "Confusion matrix\n",
      " [[ 9  0  0]\n",
      " [ 0  8  1]\n",
      " [ 0  0 11]]\n",
      "\n",
      "Classification report\n",
      "                  precision    recall  f1-score   support\n",
      "\n",
      "    Iris-setosa       1.00      1.00      1.00         9\n",
      "Iris-versicolor       1.00      0.89      0.94         9\n",
      " Iris-virginica       0.92      1.00      0.96        11\n",
      "\n",
      "       accuracy                           0.97        29\n",
      "      macro avg       0.97      0.96      0.97        29\n",
      "   weighted avg       0.97      0.97      0.97        29\n",
      "\n"
     ]
    }
   ],
   "source": [
    "from sklearn.ensemble import RandomForestClassifier\n",
    "rf=RandomForestClassifier()\n",
    "rf.fit(x_train,y_train)\n",
    "y_pred=rf.predict(x_test)\n",
    "print('Confusion matrix\\n',confusion_matrix(y_test,y_pred))\n",
    "print('\\nClassification report\\n',classification_report(y_test,y_pred))"
   ]
  },
  {
   "cell_type": "code",
   "execution_count": 40,
   "id": "36c13238",
   "metadata": {},
   "outputs": [
    {
     "data": {
      "text/plain": [
       "3    36.914220\n",
       "2    33.766188\n",
       "1    20.923550\n",
       "0     8.396042\n",
       "dtype: float64"
      ]
     },
     "execution_count": 40,
     "metadata": {},
     "output_type": "execute_result"
    }
   ],
   "source": [
    "#Evaluating the feature importance\n",
    "pd.Series(rf.feature_importances_,index=x.columns).sort_values(ascending=False)*100"
   ]
  },
  {
   "cell_type": "markdown",
   "id": "dfdf65b7",
   "metadata": {},
   "source": [
    "The feature 'SL' has the least importance in the model."
   ]
  },
  {
   "cell_type": "markdown",
   "id": "9c979ff0",
   "metadata": {},
   "source": [
    "# Extreme gradient boosting"
   ]
  },
  {
   "cell_type": "code",
   "execution_count": 41,
   "id": "2d630b72",
   "metadata": {},
   "outputs": [
    {
     "ename": "ModuleNotFoundError",
     "evalue": "No module named 'xgboost'",
     "output_type": "error",
     "traceback": [
      "\u001b[1;31m---------------------------------------------------------------------------\u001b[0m",
      "\u001b[1;31mModuleNotFoundError\u001b[0m                       Traceback (most recent call last)",
      "\u001b[1;32m<ipython-input-41-49c1e031dca8>\u001b[0m in \u001b[0;36m<module>\u001b[1;34m\u001b[0m\n\u001b[1;32m----> 1\u001b[1;33m \u001b[1;32mfrom\u001b[0m \u001b[0mxgboost\u001b[0m \u001b[1;32mimport\u001b[0m \u001b[0mXGBClassifier\u001b[0m\u001b[1;33m\u001b[0m\u001b[1;33m\u001b[0m\u001b[0m\n\u001b[0m\u001b[0;32m      2\u001b[0m \u001b[0mxgb\u001b[0m\u001b[1;33m=\u001b[0m\u001b[0mXGBClassifier\u001b[0m\u001b[1;33m(\u001b[0m\u001b[1;33m)\u001b[0m\u001b[1;33m\u001b[0m\u001b[1;33m\u001b[0m\u001b[0m\n\u001b[0;32m      3\u001b[0m \u001b[0mxgb\u001b[0m\u001b[1;33m.\u001b[0m\u001b[0mfit\u001b[0m\u001b[1;33m(\u001b[0m\u001b[0mx_train\u001b[0m\u001b[1;33m,\u001b[0m\u001b[0my_train\u001b[0m\u001b[1;33m)\u001b[0m\u001b[1;33m\u001b[0m\u001b[1;33m\u001b[0m\u001b[0m\n\u001b[0;32m      4\u001b[0m \u001b[0my_pred\u001b[0m\u001b[1;33m=\u001b[0m\u001b[0mxgb\u001b[0m\u001b[1;33m.\u001b[0m\u001b[0mpredict\u001b[0m\u001b[1;33m(\u001b[0m\u001b[0mx_test\u001b[0m\u001b[1;33m)\u001b[0m\u001b[1;33m\u001b[0m\u001b[1;33m\u001b[0m\u001b[0m\n\u001b[0;32m      5\u001b[0m \u001b[1;32mfrom\u001b[0m \u001b[0mxgboost\u001b[0m \u001b[1;32mimport\u001b[0m \u001b[0mXGBClassifier\u001b[0m\u001b[1;33m\u001b[0m\u001b[1;33m\u001b[0m\u001b[0m\n",
      "\u001b[1;31mModuleNotFoundError\u001b[0m: No module named 'xgboost'"
     ]
    }
   ],
   "source": [
    "from xgboost import XGBClassifier\n",
    "xgb=XGBClassifier()\n",
    "xgb.fit(x_train,y_train)\n",
    "y_pred=xgb.predict(x_test)\n",
    "from xgboost import XGBClassifier\n",
    "xgb=XGBClassifier()\n",
    "xgb.fit(x_train,y_train)\n",
    "y_pred=xgb.predict(x_test)\n"
   ]
  },
  {
   "cell_type": "markdown",
   "id": "7f09af32",
   "metadata": {},
   "source": [
    "Out of the six models, Support Vector Machine, Random Forest and Extreme Gradient Boosting gives the highest accuracy of 97%.\n",
    "They are the best models."
   ]
  },
  {
   "cell_type": "code",
   "execution_count": null,
   "id": "377fee9d",
   "metadata": {},
   "outputs": [],
   "source": []
  }
 ],
 "metadata": {
  "kernelspec": {
   "display_name": "Python 3",
   "language": "python",
   "name": "python3"
  },
  "language_info": {
   "codemirror_mode": {
    "name": "ipython",
    "version": 3
   },
   "file_extension": ".py",
   "mimetype": "text/x-python",
   "name": "python",
   "nbconvert_exporter": "python",
   "pygments_lexer": "ipython3",
   "version": "3.8.8"
  }
 },
 "nbformat": 4,
 "nbformat_minor": 5
}
